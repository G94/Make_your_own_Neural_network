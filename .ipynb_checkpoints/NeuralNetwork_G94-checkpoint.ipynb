{
 "cells": [
  {
   "cell_type": "markdown",
   "metadata": {},
   "source": [
    "# Make your own Neural Network by Tariq Rashid\n",
    "\n",
    "# Neural Network with Python \n",
    "> This jupyter notebook is base on the script developed in the book **Make your own Neural Network**.\n",
    "What I want to achieve is to integrated this code with other technologies like d3.js in order to apreciate and understand in a deep way how does a neural network works inside.\n",
    "\n",
    "***\n",
    "\n",
    "### Name: Cesar Gustavo Seminaro Calle\n",
    "### Job: <a href=\"https://www.linkedin.com/in/seminariocallecesargustavo/\"><img src=\"img/if_square-linkedin_317725.png\" width=\"17\"></a> Data Analysis"
   ]
  },
  {
   "cell_type": "markdown",
   "metadata": {},
   "source": [
    "***\n",
    "Let's started"
   ]
  },
  {
   "cell_type": "code",
   "execution_count": 13,
   "metadata": {},
   "outputs": [],
   "source": [
    "import numpy as np\n",
    "import scipy.special"
   ]
  },
  {
   "cell_type": "code",
   "execution_count": 7,
   "metadata": {},
   "outputs": [],
   "source": [
    "class neuralNetwork():\n",
    "    def __init__(self, inputnodes, hiddennodes, outputnodes, learningrate):\n",
    "        self.inodes=inputnodes\n",
    "        self.hnodes=hiddennodes\n",
    "        self.onodes = outputnodes\n",
    "        self.lr= learningrate\n",
    "        \n",
    "        # weights i -> j inputs to hidden layers\n",
    "        self.wih = (np.random.rand(self.hnodes,self.inodes)) - 0.5\n",
    "        \n",
    "        # weights j -> o  hidden to outputs\n",
    "        self.who =  (np.random.rand(self.onodes, self.hnodes)) - 0.5\n",
    "        \n",
    "        self.activation_function = lambda x: scipy.special.expit(x)\n",
    "    def train():\n",
    "        pass\n",
    "    \n",
    "    def query():\n",
    "        pass"
   ]
  },
  {
   "cell_type": "code",
   "execution_count": 2,
   "metadata": {},
   "outputs": [
    {
     "data": {
      "text/plain": [
       "array([[-0.11030683, -0.25894446, -0.24614497],\n",
       "       [ 0.49047513,  0.47661951, -0.01625046],\n",
       "       [ 0.01876127, -0.41842942,  0.05861216]])"
      ]
     },
     "execution_count": 2,
     "metadata": {},
     "output_type": "execute_result"
    }
   ],
   "source": [
    "\n",
    "\n",
    "np.random.rand(3,3)-0.5"
   ]
  },
  {
   "cell_type": "code",
   "execution_count": 11,
   "metadata": {},
   "outputs": [],
   "source": [
    "ann = neuralNetwork(3,3,3,0.1)"
   ]
  },
  {
   "cell_type": "code",
   "execution_count": 12,
   "metadata": {},
   "outputs": [
    {
     "data": {
      "text/plain": [
       "array([[ 0.03347012,  0.34209185,  0.41539321],\n",
       "       [-0.48839752, -0.14480445,  0.14778775],\n",
       "       [-0.49848099, -0.11872231, -0.43774512]])"
      ]
     },
     "execution_count": 12,
     "metadata": {},
     "output_type": "execute_result"
    }
   ],
   "source": [
    "ann.wih"
   ]
  },
  {
   "cell_type": "code",
   "execution_count": null,
   "metadata": {},
   "outputs": [],
   "source": []
  },
  {
   "cell_type": "code",
   "execution_count": null,
   "metadata": {},
   "outputs": [],
   "source": []
  },
  {
   "cell_type": "code",
   "execution_count": null,
   "metadata": {},
   "outputs": [],
   "source": []
  }
 ],
 "metadata": {
  "kernelspec": {
   "display_name": "Python 3",
   "language": "python",
   "name": "python3"
  },
  "language_info": {
   "codemirror_mode": {
    "name": "ipython",
    "version": 3
   },
   "file_extension": ".py",
   "mimetype": "text/x-python",
   "name": "python",
   "nbconvert_exporter": "python",
   "pygments_lexer": "ipython3",
   "version": "3.6.3"
  }
 },
 "nbformat": 4,
 "nbformat_minor": 2
}
